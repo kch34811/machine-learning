{
  "nbformat": 4,
  "nbformat_minor": 0,
  "metadata": {
    "kernelspec": {
      "display_name": "Python 3",
      "language": "python",
      "name": "python3"
    },
    "language_info": {
      "codemirror_mode": {
        "name": "ipython",
        "version": 3
      },
      "file_extension": ".py",
      "mimetype": "text/x-python",
      "name": "python",
      "nbconvert_exporter": "python",
      "pygments_lexer": "ipython3",
      "version": "3.8.3"
    },
    "colab": {
      "provenance": []
    }
  },
  "cells": [
    {
      "cell_type": "markdown",
      "metadata": {
        "id": "whjkuflGLNWu"
      },
      "source": [
        "# Fibonacci Solver\n",
        "\n",
        "The Fibonacci Sequence is the series of numbers:\n",
        "\n",
        "` 0, 1, 1, 2, 3, 5, 8, 13, 21, 34, ... `\n",
        "\n",
        "The next number is found by adding up the two numbers before it:\n",
        "\n",
        "the `2` is found by adding the two numbers before it `(1+1)`,\n",
        "the `3` is found by adding the two numbers before it `(1+2)`,\n",
        "the `5` is `(2+3)`,\n",
        "and so on!\n",
        "\n",
        "## Coding it up in Python\n",
        "Just initialize to variables with the first two numbers of the Fibonacci sequence. Then add them up and print the result.\n"
      ]
    },
    {
      "cell_type": "code",
      "metadata": {
        "id": "p58ac2HULNWv",
        "colab": {
          "base_uri": "https://localhost:8080/"
        },
        "outputId": "1a96c343-19f7-47d0-b57f-832db3de37c7"
      },
      "source": [
        "f1 = 0\n",
        "f2 = 1\n",
        "f3 = f1 + f2\n",
        "print(f3)"
      ],
      "execution_count": 1,
      "outputs": [
        {
          "output_type": "stream",
          "name": "stdout",
          "text": [
            "1\n"
          ]
        }
      ]
    },
    {
      "cell_type": "markdown",
      "metadata": {
        "id": "xSyPoS1bLNWy"
      },
      "source": [
        "You now need to do this multiple times, so you need a ***loop***\n",
        "To use a loop you need to know how many times you want to loop for.  \n",
        "For now, create a loop that prints **20** numbers (from 0 to 19). To do this in python you can create a ***for loop*** using the `range` function which will run the function for every number in the range.\n",
        "(TIP: Python is a ***0 based*** language which means it starts counting from 0 not 1 as a human normally would.)"
      ]
    },
    {
      "cell_type": "code",
      "metadata": {
        "id": "tTsWxVxMLNWy",
        "colab": {
          "base_uri": "https://localhost:8080/"
        },
        "outputId": "00b9ac92-c18f-40e6-f6db-e193a195a44d"
      },
      "source": [
        "for i in range(0, 20):\n",
        "  print(i)"
      ],
      "execution_count": 2,
      "outputs": [
        {
          "output_type": "stream",
          "name": "stdout",
          "text": [
            "0\n",
            "1\n",
            "2\n",
            "3\n",
            "4\n",
            "5\n",
            "6\n",
            "7\n",
            "8\n",
            "9\n",
            "10\n",
            "11\n",
            "12\n",
            "13\n",
            "14\n",
            "15\n",
            "16\n",
            "17\n",
            "18\n",
            "19\n"
          ]
        }
      ]
    },
    {
      "cell_type": "markdown",
      "metadata": {
        "id": "INNU9p8zLNW0"
      },
      "source": [
        "Now use the loop to compute the first 20 elements of the Fibonacci sequence."
      ]
    },
    {
      "cell_type": "code",
      "metadata": {
        "id": "4Hf59jqgLNW1",
        "colab": {
          "base_uri": "https://localhost:8080/"
        },
        "outputId": "e3c02c35-e21e-4439-fdfe-21f4b4b397c5"
      },
      "source": [
        "print(f1)\n",
        "print(f2)\n",
        "f_first = f1\n",
        "f_second = f2\n",
        "for i in range(0,18):\n",
        "  f_third = f_first + f_second\n",
        "  print(f_third)\n",
        "  f_first = f_second\n",
        "  f_second = f_third"
      ],
      "execution_count": 3,
      "outputs": [
        {
          "output_type": "stream",
          "name": "stdout",
          "text": [
            "0\n",
            "1\n",
            "1\n",
            "2\n",
            "3\n",
            "5\n",
            "8\n",
            "13\n",
            "21\n",
            "34\n",
            "55\n",
            "89\n",
            "144\n",
            "233\n",
            "377\n",
            "610\n",
            "987\n",
            "1597\n",
            "2584\n",
            "4181\n"
          ]
        }
      ]
    },
    {
      "cell_type": "markdown",
      "metadata": {
        "id": "bScJ-6tULNW3"
      },
      "source": [
        "If you managed it till here great job!\n",
        "Is seems to work great so far, but you need to store these numbers so you can reference them when needed."
      ]
    },
    {
      "cell_type": "markdown",
      "metadata": {
        "id": "1VhirrXpLNW3"
      },
      "source": [
        "Create an empty ***array*** called `fibonacci` and then append the elements of the sequence to it."
      ]
    },
    {
      "cell_type": "code",
      "metadata": {
        "id": "thTMoVY2LNW3"
      },
      "source": [
        "fibonacci = []\n",
        "fibonacci.append(0)\n",
        "fibonacci.append(1)\n",
        "for i in range(0,18):\n",
        "  fibonacci.append(fibonacci[i] + fibonacci[i+1])"
      ],
      "execution_count": 4,
      "outputs": []
    },
    {
      "cell_type": "markdown",
      "metadata": {
        "id": "6nlc_cC7LNW5"
      },
      "source": [
        "If everything worked according to the plan, you should be able to access any of the first 20 elements of the Fibonacci sequence at will.\n",
        "\n",
        "eg `fibonacci[0]` would get us the first item in the array whilst `fibonacci[9]` would get us the tenth item (remember Python is 0 based so you always need to take 1 away from the number you need)"
      ]
    },
    {
      "cell_type": "code",
      "metadata": {
        "id": "yEKa7pAuLNW6",
        "colab": {
          "base_uri": "https://localhost:8080/"
        },
        "outputId": "cfcdf797-1fdf-4469-c785-189c6b1ff017"
      },
      "source": [
        "fibonacci[0]"
      ],
      "execution_count": 5,
      "outputs": [
        {
          "output_type": "execute_result",
          "data": {
            "text/plain": [
              "0"
            ]
          },
          "metadata": {},
          "execution_count": 5
        }
      ]
    },
    {
      "cell_type": "code",
      "metadata": {
        "id": "1wbxOVnELNW7",
        "colab": {
          "base_uri": "https://localhost:8080/"
        },
        "outputId": "65c71661-4b06-4fc1-df48-0be9e90bbd13"
      },
      "source": [
        "fibonacci[9]"
      ],
      "execution_count": null,
      "outputs": [
        {
          "output_type": "execute_result",
          "data": {
            "text/plain": [
              "34"
            ]
          },
          "metadata": {},
          "execution_count": 51
        }
      ]
    },
    {
      "cell_type": "markdown",
      "metadata": {
        "id": "50FpCM7CLNW9"
      },
      "source": [
        "So now you know how to get at the index, you need to know which index values are asked for by the user.\n",
        "Lets get some input from the user."
      ]
    },
    {
      "cell_type": "markdown",
      "source": [
        "Get the first index from the user"
      ],
      "metadata": {
        "id": "5Vp9iO2r2e2S"
      }
    },
    {
      "cell_type": "code",
      "source": [
        "i_first = input()"
      ],
      "metadata": {
        "id": "Zj6mnXCI2mNo",
        "colab": {
          "base_uri": "https://localhost:8080/"
        },
        "outputId": "5edc412b-2e0a-49af-f38f-2a9f9ec83419"
      },
      "execution_count": null,
      "outputs": [
        {
          "name": "stdout",
          "output_type": "stream",
          "text": [
            "1\n"
          ]
        }
      ]
    },
    {
      "cell_type": "markdown",
      "source": [
        "Get the second index from the user"
      ],
      "metadata": {
        "id": "9LDXbzP02rFa"
      }
    },
    {
      "cell_type": "code",
      "metadata": {
        "id": "wqbTuR2TLNXA",
        "colab": {
          "base_uri": "https://localhost:8080/"
        },
        "outputId": "bb59cde7-e818-481b-cd31-c79240ac22a6"
      },
      "source": [
        "i_second = input()"
      ],
      "execution_count": null,
      "outputs": [
        {
          "name": "stdout",
          "output_type": "stream",
          "text": [
            "2\n"
          ]
        }
      ]
    },
    {
      "cell_type": "markdown",
      "source": [
        "Print the received inputs and their types"
      ],
      "metadata": {
        "id": "EK9FMjJV22x9"
      }
    },
    {
      "cell_type": "code",
      "metadata": {
        "id": "xfy81HrsLNXC",
        "colab": {
          "base_uri": "https://localhost:8080/"
        },
        "outputId": "b588a2e4-00ba-461d-fa53-bb05faf43002"
      },
      "source": [
        "print(i_first)\n",
        "print(i_second)\n",
        "print(type(i_first))\n",
        "print(type(i_second))"
      ],
      "execution_count": null,
      "outputs": [
        {
          "output_type": "stream",
          "name": "stdout",
          "text": [
            "1\n",
            "2\n",
            "<class 'str'>\n",
            "<class 'str'>\n"
          ]
        }
      ]
    },
    {
      "cell_type": "markdown",
      "metadata": {
        "id": "ttb_0MejLNXE"
      },
      "source": [
        "The value received from input will be treated as a string type, you need to convert this to a number so python knows to treat it as one."
      ]
    },
    {
      "cell_type": "code",
      "source": [
        "i_first = int(i_first)\n",
        "i_second = int(i_second)"
      ],
      "metadata": {
        "id": "RwVoHTLn6QvB"
      },
      "execution_count": null,
      "outputs": []
    },
    {
      "cell_type": "markdown",
      "source": [
        "Print the type of the transformed variables."
      ],
      "metadata": {
        "id": "pxKx8gKy2-eh"
      }
    },
    {
      "cell_type": "code",
      "source": [
        "print(type(i_first))\n",
        "print(type(i_second))"
      ],
      "metadata": {
        "id": "dN_EzHKr3GmO",
        "colab": {
          "base_uri": "https://localhost:8080/"
        },
        "outputId": "d14050cc-5f96-4521-e2e9-21ac5e6a3de7"
      },
      "execution_count": null,
      "outputs": [
        {
          "output_type": "stream",
          "name": "stdout",
          "text": [
            "<class 'int'>\n",
            "<class 'int'>\n"
          ]
        }
      ]
    },
    {
      "cell_type": "markdown",
      "metadata": {
        "id": "CRuAEA7KLNXE"
      },
      "source": [
        "Now you have all the parts you need to make this work. \n",
        "\n",
        "*   The user should be prompted \"How many results would you like?\"\n",
        "*   The program should read the users preference, e.g. 20, and then compute the list of elements up to this number.\n",
        "*   Then the program should ask the user for 2 indexes within the list of the calculated Fibonacci sequence\n",
        "*   Finally it should print the summation of their values.\n",
        "\n",
        "Time to put it together:"
      ]
    },
    {
      "cell_type": "code",
      "metadata": {
        "id": "ukW0WUA7LNXE",
        "colab": {
          "base_uri": "https://localhost:8080/"
        },
        "outputId": "3fcc0b74-72c7-4b8a-b1c4-ca11297d3537"
      },
      "source": [
        "print(\"How many results would you like?\")\n",
        "element_num = input()\n",
        "\n",
        "fibonacci = []\n",
        "fibonacci.append(0)\n",
        "fibonacci.append(1)\n",
        "\n",
        "for i in range(0,int(element_num) - 2):\n",
        "  fibonacci.append(fibonacci[i] + fibonacci[i+1])\n",
        "\n",
        "print(\"Enter the first index\")\n",
        "i_first = input()\n",
        "print(\"Enter the second index\")\n",
        "i_second = input()\n",
        "\n",
        "print(fibonacci[int(i_first)] + fibonacci[int(i_second)])"
      ],
      "execution_count": 6,
      "outputs": [
        {
          "output_type": "stream",
          "name": "stdout",
          "text": [
            "How many results would you like?\n",
            "89\n",
            "Enter the first index\n",
            "1\n",
            "Enter the second index\n",
            "4\n",
            "4\n"
          ]
        }
      ]
    },
    {
      "cell_type": "markdown",
      "source": [
        "Write a simple algorithm that creates a plot of the first 30 Fibonacci numbers (x-axis: 1,..,30; y-axis: number)."
      ],
      "metadata": {
        "id": "frGO8iDfqf9-"
      }
    },
    {
      "cell_type": "code",
      "source": [
        "import matplotlib.pyplot as plt\n",
        "x, y = [], []\n",
        "y.append(0)\n",
        "y.append(1)\n",
        "\n",
        "for i in range(1, 31):\n",
        "  x.append(i)\n",
        "\n",
        "for i in range(2,30):\n",
        "  y.append(y[i-2] + y[i-1])\n",
        "\n",
        "plt.plot(x, y)\n",
        "plt.ylabel('Fibonacci number')\n",
        "plt.show()"
      ],
      "metadata": {
        "colab": {
          "base_uri": "https://localhost:8080/",
          "height": 265
        },
        "id": "TmPHbtL7qfh0",
        "outputId": "574d2b40-16cc-49d4-a800-ba0f41d87003"
      },
      "execution_count": 29,
      "outputs": [
        {
          "output_type": "display_data",
          "data": {
            "text/plain": [
              "<Figure size 432x288 with 1 Axes>"
            ],
            "image/png": "[encoded data removed]"
          },
          "metadata": {
            "needs_background": "light"
          }
        }
      ]
    },
    {
      "cell_type": "markdown",
      "source": [
        "Bonus exercise: find the fibonacci sequence recursively"
      ],
      "metadata": {
        "id": "PYrgYJ1svui_"
      }
    },
    {
      "cell_type": "code",
      "source": [
        "fibonacci = []\n",
        "i = 0\n",
        "while i >= 0:\n",
        "  if i == 0: \n",
        "    fibonacci.append(0)\n",
        "  elif i == 1: \n",
        "    fibonacci.append(1)\n",
        "  else: \n",
        "    fibonacci.append(fibonacci[i-2] + fibonacci[i-1])\n",
        "  i += 1"
      ],
      "metadata": {
        "colab": {
          "base_uri": "https://localhost:8080/",
          "height": 223
        },
        "id": "n3WQWFwzv17G",
        "outputId": "29e94068-c662-4b72-d0a3-818b22b50383"
      },
      "execution_count": 30,
      "outputs": [
        {
          "output_type": "error",
          "ename": "KeyboardInterrupt",
          "evalue": "ignored",
          "traceback": [
            "\u001b[0;31m---------------------------------------------------------------------------\u001b[0m",
            "\u001b[0;31mKeyboardInterrupt\u001b[0m                         Traceback (most recent call last)",
            "\u001b[0;32m<ipython-input-30-0ea40757643b>\u001b[0m in \u001b[0;36m<module>\u001b[0;34m\u001b[0m\n\u001b[1;32m      7\u001b[0m     \u001b[0mfibonacci\u001b[0m\u001b[0;34m.\u001b[0m\u001b[0mappend\u001b[0m\u001b[0;34m(\u001b[0m\u001b[0;36m1\u001b[0m\u001b[0;34m)\u001b[0m\u001b[0;34m\u001b[0m\u001b[0;34m\u001b[0m\u001b[0m\n\u001b[1;32m      8\u001b[0m   \u001b[0;32melse\u001b[0m\u001b[0;34m:\u001b[0m\u001b[0;34m\u001b[0m\u001b[0;34m\u001b[0m\u001b[0m\n\u001b[0;32m----> 9\u001b[0;31m     \u001b[0mfibonacci\u001b[0m\u001b[0;34m.\u001b[0m\u001b[0mappend\u001b[0m\u001b[0;34m(\u001b[0m\u001b[0mfibonacci\u001b[0m\u001b[0;34m[\u001b[0m\u001b[0mi\u001b[0m\u001b[0;34m-\u001b[0m\u001b[0;36m2\u001b[0m\u001b[0;34m]\u001b[0m \u001b[0;34m+\u001b[0m \u001b[0mfibonacci\u001b[0m\u001b[0;34m[\u001b[0m\u001b[0mi\u001b[0m\u001b[0;34m-\u001b[0m\u001b[0;36m1\u001b[0m\u001b[0;34m]\u001b[0m\u001b[0;34m)\u001b[0m\u001b[0;34m\u001b[0m\u001b[0;34m\u001b[0m\u001b[0m\n\u001b[0m\u001b[1;32m     10\u001b[0m   \u001b[0mi\u001b[0m \u001b[0;34m+=\u001b[0m \u001b[0;36m1\u001b[0m\u001b[0;34m\u001b[0m\u001b[0;34m\u001b[0m\u001b[0m\n",
            "\u001b[0;31mKeyboardInterrupt\u001b[0m: "
          ]
        }
      ]
    }
  ]
}