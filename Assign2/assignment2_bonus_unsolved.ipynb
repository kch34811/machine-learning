{
  "cells": [
    {
      "cell_type": "code",
      "execution_count": 1,
      "metadata": {
        "id": "HoNMeHx5EDAm"
      },
      "outputs": [],
      "source": [
        "# By Univ.-Prof. Dr. Elmar Rueckert, 02.03.2022\n",
        "# *******************************************************\n",
        "\n",
        "\n",
        "import pickle, os\n",
        "import numpy as np\n",
        "from PIL import Image\n",
        "from itertools import product"
      ]
    },
    {
      "cell_type": "markdown",
      "metadata": {
        "id": "6SMr_2ZyFQJ0"
      },
      "source": [
        "Download the picture in this link https://cps.unileoben.ac.at/wp/DALL·E-2023-02-09-17.32.48-robot-hand-communicating-with-sign-language.png and add it to the repository.\n",
        "Name it 'hand.png'"
      ]
    },
    {
      "cell_type": "markdown",
      "metadata": {
        "id": "DZgexX8UE0HV"
      },
      "source": [
        "The \"filtered\" callback function takes a kernel (k) and an image as inputs, and applies the convolution operation on the image using the kernel. It first calculates the offset value for the kernel based on its shape, and then creates a zero-filled array of the same shape as the input image. It then iterates through all the pixel coordinates of the image, and for each pixel, it extracts the corresponding kernel-sized sub-image from the input image. It then performs the element-wise multiplication between the sub-image and the kernel, and sums up the resulting values to get a single output value. This output value is then clipped between 0 and 255, and stored in the corresponding pixel location of the output image. Finally, the filtered image is returned as output."
      ]
    },
    {
      "cell_type": "code",
      "execution_count": 2,
      "metadata": {
        "id": "pwuRm4gUE-eA"
      },
      "outputs": [],
      "source": [
        "\n",
        "def filtered(k, image):\n",
        "    k_shape = k.shape\n",
        "    offset = k_shape[0] // 2\n",
        "\n",
        "    img_shape = image.shape\n",
        "    filtered_image = np.zeros(img_shape, dtype=np.uint8)\n",
        "\n",
        "    for i, j in product(range(offset, img_shape[0]-offset), range(offset, img_shape[1]-offset)):\n",
        "        sub_image = image[i-offset:i+offset+1, j-offset:j+offset+1]\n",
        "        filtered_value = np.sum(k * sub_image)\n",
        "        filtered_value = np.clip(filtered_value, 0, 255)\n",
        "        filtered_image[i, j] = filtered_value\n",
        "    \n",
        "    return filtered_image"
      ]
    },
    {
      "cell_type": "markdown",
      "metadata": {
        "id": "zqrb5mT6EjRz"
      },
      "source": [
        "Develop the image processing function that takes the filter and the callback as arguments"
      ]
    },
    {
      "cell_type": "code",
      "execution_count": 3,
      "metadata": {
        "id": "wjdHq6ONEjau"
      },
      "outputs": [],
      "source": [
        "def image_processing(k, callback):\n",
        "    # Acquire image\n",
        "    image_path = 'hand.png'\n",
        "    if not os.path.exists(image_path):\n",
        "        raise ValueError(f'Image file \"{image_path}\" not found')\n",
        "    with Image.open(image_path) as img:\n",
        "        image = np.asarray(img)\n",
        "    \n",
        "    # Display image\n",
        "    print('Original image:')\n",
        "    Image.fromarray(image).show()\n",
        "    \n",
        "    # Apply filter using the callback function\n",
        "    filtered_image = callback(k, image)\n",
        "    \n",
        "    # Display filtered image\n",
        "    print('Filtered image:')\n",
        "    Image.fromarray(filtered_image).show()"
      ]
    },
    {
      "cell_type": "markdown",
      "metadata": {
        "id": "h_yhIiCCEe_y"
      },
      "source": [
        "Main function"
      ]
    },
    {
      "cell_type": "code",
      "execution_count": 4,
      "metadata": {
        "id": "Y2-B4ii1EewG"
      },
      "outputs": [],
      "source": [
        "if __name__ == '__main__':\n",
        "    # Laplace kernel\n",
        "    k_laplacian = np.asarray([[-1, -1, -1],\n",
        "                              [-1,  8, -1],\n",
        "                              [-1, -1, -1]])\n",
        "\n",
        "    # Gaussian Smoothing Kernel\n",
        "    k_gaussian = np.asarray([[1, 1, 1],\n",
        "                             [1, 1, 1],\n",
        "                             [1, 1, 1]],dtype=float)\n",
        "    k_gaussian /= 9"
      ]
    },
    {
      "cell_type": "markdown",
      "metadata": {
        "id": "XQdU2c8nEb5H"
      },
      "source": [
        "Image Processing"
      ]
    },
    {
      "cell_type": "code",
      "execution_count": 5,
      "metadata": {
        "colab": {
          "base_uri": "https://localhost:8080/",
          "height": 313
        },
        "id": "1XN9C4p-EZTF",
        "outputId": "3adcf432-9e58-4b64-d679-14173e02bba1"
      },
      "outputs": [
        {
          "name": "stdout",
          "output_type": "stream",
          "text": [
            "Original image:\n",
            "Filtered image:\n",
            "Original image:\n",
            "Filtered image:\n"
          ]
        }
      ],
      "source": [
        "    image_processing(k_laplacian,filtered)\n",
        "    image_processing(k_gaussian, filtered)"
      ]
    }
  ],
  "metadata": {
    "colab": {
      "provenance": []
    },
    "kernelspec": {
      "display_name": "Python 3",
      "name": "python3"
    },
    "language_info": {
      "codemirror_mode": {
        "name": "ipython",
        "version": 3
      },
      "file_extension": ".py",
      "mimetype": "text/x-python",
      "name": "python",
      "nbconvert_exporter": "python",
      "pygments_lexer": "ipython3",
      "version": "3.9.12"
    }
  },
  "nbformat": 4,
  "nbformat_minor": 0
}
