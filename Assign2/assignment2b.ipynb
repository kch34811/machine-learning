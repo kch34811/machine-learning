{
  "nbformat": 4,
  "nbformat_minor": 0,
  "metadata": {
    "colab": {
      "provenance": []
    },
    "kernelspec": {
      "name": "python3",
      "display_name": "Python 3"
    },
    "language_info": {
      "name": "python"
    }
  },
  "cells": [
    {
      "cell_type": "markdown",
      "source": [
        "Create a 10x50 matrix with random numbers using numpy.\n",
        "\n",
        "Print the shape of the matrix.\n",
        "\n",
        "Ask from the user for a row number and print the row given.\n",
        "\n",
        "Do the same for a column."
      ],
      "metadata": {
        "id": "uth74pt22oNz"
      }
    },
    {
      "cell_type": "code",
      "execution_count": 20,
      "metadata": {
        "id": "aq9rcHTJ3Qio",
        "colab": {
          "base_uri": "https://localhost:8080/"
        },
        "outputId": "20a051f7-df6b-483b-ff83-546abb0067ed"
      },
      "outputs": [
        {
          "output_type": "stream",
          "name": "stdout",
          "text": [
            "Matrix shape: (10, 50)\n",
            "Enter a row number: 7\n",
            "Row number 7 : [-35  83 -28 -95 -88  30  12  62  48  25  23  26 -98  16 -58 -96  32 -62\n",
            "   9  55   9 -12  87   3  -8 -63  52 -20 -14  80 -64  39 -20 -84  24  69\n",
            " -20 -22  68 -64 -27  58  77   7  42  23  54 -24 -64 -91]\n",
            "Enter a column number: 8\n",
            "Column number 8 : [-95 -92 -39 -23  97 -60  79  48  98 -19]\n"
          ]
        }
      ],
      "source": [
        "import numpy as np\n",
        "\n",
        "matrix = np.random.randint(-99, 100, size=(10, 50))\n",
        "\n",
        "# Print the shape of the matrix\n",
        "print(\"Matrix shape:\", matrix.shape)\n",
        "\n",
        "# Ask from the user for a row number and print the row given\n",
        "row = input(\"Enter a row number: \")\n",
        "print(\"Row number\", row, \":\", matrix[int(row)])\n",
        "\n",
        "# Ask from the user for a column number and print the column given\n",
        "col = input(\"Enter a column number: \")\n",
        "print(\"Column number\", col, \":\", matrix[:,int(col)])"
      ]
    },
    {
      "cell_type": "markdown",
      "source": [
        "Create the following matrices and calculate their dot product.\n",
        "\n",
        "$$ \\left[\n",
        "\\begin{matrix}\n",
        "    5 & 1 & 2 \\\\\n",
        "    1 & 2 & 1 \\\\\n",
        "    1 & 2 & 1 \\\\\n",
        "\\end{matrix}\n",
        "\\right] $$\n",
        "\n",
        "\n",
        "$$ \\left[\n",
        "\\begin{matrix}\n",
        "    1 & 2 & 3 \\\\\n",
        "\\end{matrix}\n",
        "\\right] $$"
      ],
      "metadata": {
        "id": "k6Wpbmh92muh"
      }
    },
    {
      "cell_type": "code",
      "source": [
        "matrix_1 = np.array([[5, 1, 3], [1, 2, 1], [1, 2, 1]])\n",
        "matrix_2 = np.array([[1, 2, 3]])\n",
        "\n",
        "dot_product_1 = np.dot(matrix_1, matrix_1)\n",
        "dot_product_2 = np.inner(matrix_2, matrix_2)\n",
        "\n",
        "print(dot_product_1)\n",
        "print(dot_product_2)"
      ],
      "metadata": {
        "colab": {
          "base_uri": "https://localhost:8080/"
        },
        "id": "VWKM-05QB4C7",
        "outputId": "f39f0eb0-2722-44aa-94fd-b4a486d0381f"
      },
      "execution_count": null,
      "outputs": [
        {
          "output_type": "stream",
          "name": "stdout",
          "text": [
            "[[29 13 19]\n",
            " [ 8  7  6]\n",
            " [ 8  7  6]]\n",
            "[[14]]\n"
          ]
        }
      ]
    },
    {
      "cell_type": "markdown",
      "source": [
        "Given the following matrices calculate their (matrix) multiplication.\n",
        "- A*B\n",
        "- A*C\n",
        "\n",
        "A\n",
        "$$ \\left[\n",
        "\\begin{matrix}\n",
        "    1 & 0 \\\\\n",
        "    0 & 1 \\\\\n",
        "\\end{matrix}\n",
        "\\right] $$\n",
        "\n",
        "B\n",
        "$$ \\left[\n",
        "\\begin{matrix}\n",
        "    4 & 1 \\\\\n",
        "    2 & 2 \\\\\n",
        "\\end{matrix}\n",
        "\\right] $$\n",
        "\n",
        "C\n",
        "$$ \\left[\n",
        "\\begin{matrix}\n",
        "    1 & 2 \\\\\n",
        "\\end{matrix}\n",
        "\\right] $$\n",
        "\n"
      ],
      "metadata": {
        "id": "HUlfIQN702-F"
      }
    },
    {
      "cell_type": "code",
      "source": [
        "A = np.array([[1, 0], [0, 1]])\n",
        "B = np.array([[4, 1], [2, 2]])\n",
        "C = np.array([[1, 2]])\n",
        "\n",
        "# A*B\n",
        "AB = np.dot(A, B)\n",
        "\n",
        "# Transpose C\n",
        "C = C.T\n",
        "# A*C\n",
        "AC = np.dot(A, C)\n",
        "\n",
        "print(\"A*B =\", '\\n', AB)\n",
        "print(\"A*C =\", '\\n', AC)"
      ],
      "metadata": {
        "colab": {
          "base_uri": "https://localhost:8080/"
        },
        "id": "0iB2cPGoMDNa",
        "outputId": "a753b87d-6c63-4524-c034-c1e6b9e67bfd"
      },
      "execution_count": 5,
      "outputs": [
        {
          "output_type": "stream",
          "name": "stdout",
          "text": [
            "A*B = \n",
            " [[4 1]\n",
            " [2 2]]\n",
            "A*C = \n",
            " [[1]\n",
            " [2]]\n"
          ]
        }
      ]
    },
    {
      "cell_type": "markdown",
      "source": [
        "Find the third power of this matrix.\n",
        "$$ \\left[\n",
        "\\begin{matrix}\n",
        "    0 & 1 \\\\\n",
        "    -1 & 0 \\\\\n",
        "\\end{matrix}\n",
        "\\right] $$"
      ],
      "metadata": {
        "id": "2WedFOrAMgBf"
      }
    },
    {
      "cell_type": "code",
      "source": [
        "matrix = np.array([[0, 1], [-1, 0]])\n",
        "\n",
        "matrix_3_power = np.linalg.matrix_power(matrix, 3)\n",
        "\n",
        "print(matrix_3_power)"
      ],
      "metadata": {
        "colab": {
          "base_uri": "https://localhost:8080/"
        },
        "id": "J9bMbwhjMr0L",
        "outputId": "25faed1b-060f-4692-d696-471d98bb43e0"
      },
      "execution_count": 9,
      "outputs": [
        {
          "output_type": "stream",
          "name": "stdout",
          "text": [
            "[[ 0 -1]\n",
            " [ 1  0]]\n"
          ]
        }
      ]
    },
    {
      "cell_type": "markdown",
      "source": [
        "Find the determinant of this matrix.\n",
        "\n",
        "$$ \\left[\n",
        "\\begin{matrix}\n",
        "    1 & 2 \\\\\n",
        "    3 & 4 \\\\\n",
        "\\end{matrix}\n",
        "\\right] $$"
      ],
      "metadata": {
        "id": "fPrFJd3oMsgY"
      }
    },
    {
      "cell_type": "code",
      "source": [
        "matrix = np.array([[1, 2], [3, 4]])\n",
        "\n",
        "determinant = np.linalg.det(matrix)\n",
        "\n",
        "print(determinant)"
      ],
      "metadata": {
        "colab": {
          "base_uri": "https://localhost:8080/"
        },
        "id": "HgTh3rbEMx1R",
        "outputId": "e18055a7-344b-4b27-8b25-1ce169458dd2"
      },
      "execution_count": 14,
      "outputs": [
        {
          "output_type": "stream",
          "name": "stdout",
          "text": [
            "-2.0000000000000004\n"
          ]
        }
      ]
    },
    {
      "cell_type": "markdown",
      "source": [
        "Use the functions ‘eye’ and ‘ones’ from numpy to create 4x4 matrices. Find their ranks."
      ],
      "metadata": {
        "id": "tJEdZUwzMyXK"
      }
    },
    {
      "cell_type": "code",
      "source": [
        "matrix_1 = np.eye(4)\n",
        "matrix_2 = np.ones((4,4))\n",
        "\n",
        "rank_1 = np.linalg.matrix_rank(matrix_1)\n",
        "rank_2 = np.linalg.matrix_rank(matrix_2)\n",
        "\n",
        "print(\"Rank of matrix using 'eye':\", rank_1)\n",
        "print(\"Rank of matrix using 'ones':\", rank_2)"
      ],
      "metadata": {
        "colab": {
          "base_uri": "https://localhost:8080/"
        },
        "id": "bEvkPqbKM2Oi",
        "outputId": "97e6cac8-e0ec-4fa2-a382-b0bfec717565"
      },
      "execution_count": 12,
      "outputs": [
        {
          "output_type": "stream",
          "name": "stdout",
          "text": [
            "Rank of matrix using 'eye': 4\n",
            "Rank of matrix using 'ones': 1\n"
          ]
        }
      ]
    },
    {
      "cell_type": "markdown",
      "source": [
        "Find the inverse of this matrix.\n",
        "$$ \\left[\n",
        "\\begin{matrix}\n",
        "    2 & 2 & 1 \\\\\n",
        "    1 & 3 & 1 \\\\\n",
        "    1 & 2 & 2 \\\\\n",
        "\\end{matrix}\n",
        "\\right] $$"
      ],
      "metadata": {
        "id": "4rlgf7NDM2lM"
      }
    },
    {
      "cell_type": "code",
      "source": [
        "matrix = np.array([[2, 2, 1], [1, 3, 1], [1, 2, 2]])\n",
        "inverse = np.linalg.inv(matrix)\n",
        "print(inverse)"
      ],
      "metadata": {
        "colab": {
          "base_uri": "https://localhost:8080/"
        },
        "id": "wXdohEtfNDDp",
        "outputId": "6489d134-7b0f-406a-c828-7bee007d3fd0"
      },
      "execution_count": 15,
      "outputs": [
        {
          "output_type": "stream",
          "name": "stdout",
          "text": [
            "[[ 0.8 -0.4 -0.2]\n",
            " [-0.2  0.6 -0.2]\n",
            " [-0.2 -0.4  0.8]]\n"
          ]
        }
      ]
    },
    {
      "cell_type": "markdown",
      "source": [
        "Find the pseudo inverse of this matrix.\n",
        "$$ \\left[\n",
        "\\begin{matrix}\n",
        "    2 & 8 \\\\\n",
        "    1 & 4 \\\\\n",
        "\\end{matrix}\n",
        "\\right] $$"
      ],
      "metadata": {
        "id": "dDXib1QWNDg0"
      }
    },
    {
      "cell_type": "code",
      "source": [
        "matrix = np.array([[2, 8], [1, 4]])\n",
        "\n",
        "pseudo_inverse = np.linalg.pinv(matrix)\n",
        "\n",
        "print(pseudo_inverse)"
      ],
      "metadata": {
        "colab": {
          "base_uri": "https://localhost:8080/"
        },
        "id": "MJOLLMj8NPRI",
        "outputId": "ea907f67-f5e6-47c7-94c8-7f7a838f6850"
      },
      "execution_count": 16,
      "outputs": [
        {
          "output_type": "stream",
          "name": "stdout",
          "text": [
            "[[0.02352941 0.01176471]\n",
            " [0.09411765 0.04705882]]\n"
          ]
        }
      ]
    },
    {
      "cell_type": "markdown",
      "source": [
        "Find the eigenvalues and eigenvectors of this matrix.\n",
        "$$ \\left[\n",
        "\\begin{matrix}\n",
        "    1 & -1 \\\\\n",
        "    1 & 1 \\\\\n",
        "\\end{matrix}\n",
        "\\right] $$"
      ],
      "metadata": {
        "id": "0EA6sMkRNPtR"
      }
    },
    {
      "cell_type": "code",
      "source": [
        "A = np.array([[1, -1], [1, 1]])\n",
        "\n",
        "eigenvalues, eigenvectors = np.linalg.eig(A)\n",
        "\n",
        "print(\"Eigenvalues:\", eigenvalues)\n",
        "print(\"Eigenvectors:\", eigenvectors)"
      ],
      "metadata": {
        "colab": {
          "base_uri": "https://localhost:8080/"
        },
        "id": "FWfKh188NYAS",
        "outputId": "4f5b12b9-acb1-4256-f383-2e59270e193e"
      },
      "execution_count": 17,
      "outputs": [
        {
          "output_type": "stream",
          "name": "stdout",
          "text": [
            "Eigenvalues: [1.+1.j 1.-1.j]\n",
            "Eigenvectors: [[0.70710678+0.j         0.70710678-0.j        ]\n",
            " [0.        -0.70710678j 0.        +0.70710678j]]\n"
          ]
        }
      ]
    }
  ]
}